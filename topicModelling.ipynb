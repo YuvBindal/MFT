{
  "nbformat": 4,
  "nbformat_minor": 0,
  "metadata": {
    "colab": {
      "provenance": []
    },
    "kernelspec": {
      "name": "python3",
      "display_name": "Python 3"
    },
    "language_info": {
      "name": "python"
    }
  },
  "cells": [
    {
      "cell_type": "code",
      "execution_count": 65,
      "metadata": {
        "id": "t8f4HF5Mwuh_"
      },
      "outputs": [],
      "source": [
        "import gensim\n",
        "from gensim.utils import simple_preprocess\n",
        "from gensim.parsing.preprocessing import STOPWORDS\n",
        "from nltk.stem import WordNetLemmatizer, SnowballStemmer\n",
        "from nltk.stem.porter import *\n",
        "import numpy as np\n",
        "import nltk.stem as stemmer\n",
        "np.random.seed(2018)\n",
        "import pandas as pd\n",
        "import numpy as np\n",
        "import re\n",
        "import gensim\n",
        "from gensim.utils import simple_preprocess\n",
        "import nltk\n",
        "from nltk.corpus import stopwords"
      ]
    },
    {
      "cell_type": "code",
      "source": [
        "df = pd.read_csv('SEC_Rule_making.csv', error_bad_lines=False)\n",
        "df = df.drop(\"Author\", axis = 1)\n",
        "df['Title'].fillna('', inplace=True)\n",
        "\n",
        "df['text_processed'] = df['Title'].apply(lambda x: re.sub('[,\\.!?]', '', x).lower())\n",
        "\n",
        "df.head()"
      ],
      "metadata": {
        "colab": {
          "base_uri": "https://localhost:8080/",
          "height": 575
        },
        "id": "uc_N7DJCyGXA",
        "outputId": "d0218c9a-383a-48df-d4dc-506301d008cc"
      },
      "execution_count": 66,
      "outputs": [
        {
          "output_type": "stream",
          "name": "stderr",
          "text": [
            "<ipython-input-66-fe5d6e3029e4>:1: FutureWarning: The error_bad_lines argument has been deprecated and will be removed in a future version. Use on_bad_lines in the future.\n",
            "\n",
            "\n",
            "  df = pd.read_csv('SEC_Rule_making.csv', error_bad_lines=False)\n"
          ]
        },
        {
          "output_type": "execute_result",
          "data": {
            "text/plain": [
              "                                               Title  \\\n",
              "0  Volume-Based Exchange Transaction Pricing for ...   \n",
              "1  Short Position and Short Activity Reporting by...   \n",
              "2                      Reporting of Securities Loans   \n",
              "3    Modernization of Beneficial Ownership Reporting   \n",
              "4  Registration for Index-Linked Annuities; Amend...   \n",
              "\n",
              "                                                 URL  \\\n",
              "0    https://sec.gov/rules/2023/10/feetiers#34-98766   \n",
              "1  https://sec.gov/rules/2022/02/notice-text-prop...   \n",
              "2  https://sec.gov/rules/2021/11/reporting-securi...   \n",
              "3  https://sec.gov/rules/2022/02/modernization-be...   \n",
              "4        https://sec.gov/rules/2023/09/rila#33-11250   \n",
              "\n",
              "                                                Body  \\\n",
              "0  The Securities and Exchange Commission (“Commi...   \n",
              "1  The Securities and Exchange Commission (“Commi...   \n",
              "2  The Securities and Exchange Commission (“SEC” ...   \n",
              "3  The Securities and Exchange Commission (“Commi...   \n",
              "4  The Commission is proposing to amend the offer...   \n",
              "\n",
              "                                        Resource URL  \\\n",
              "0  https://sec.gov/files/rules/proposed/2023/34-9...   \n",
              "1  https://sec.gov/files/rules/proposed/2022/33-1...   \n",
              "2  https://sec.gov/files/rules/proposed/2022/33-1...   \n",
              "3  https://sec.gov/files/rules/proposed/2023/33-1...   \n",
              "4  https://sec.gov/files/rules/proposed/2023/33-1...   \n",
              "\n",
              "                                      text_processed  \n",
              "0  volume-based exchange transaction pricing for ...  \n",
              "1  short position and short activity reporting by...  \n",
              "2                      reporting of securities loans  \n",
              "3    modernization of beneficial ownership reporting  \n",
              "4  registration for index-linked annuities; amend...  "
            ],
            "text/html": [
              "\n",
              "  <div id=\"df-b6843ccc-69b5-4e60-960c-880ede6481ff\" class=\"colab-df-container\">\n",
              "    <div>\n",
              "<style scoped>\n",
              "    .dataframe tbody tr th:only-of-type {\n",
              "        vertical-align: middle;\n",
              "    }\n",
              "\n",
              "    .dataframe tbody tr th {\n",
              "        vertical-align: top;\n",
              "    }\n",
              "\n",
              "    .dataframe thead th {\n",
              "        text-align: right;\n",
              "    }\n",
              "</style>\n",
              "<table border=\"1\" class=\"dataframe\">\n",
              "  <thead>\n",
              "    <tr style=\"text-align: right;\">\n",
              "      <th></th>\n",
              "      <th>Title</th>\n",
              "      <th>URL</th>\n",
              "      <th>Body</th>\n",
              "      <th>Resource URL</th>\n",
              "      <th>text_processed</th>\n",
              "    </tr>\n",
              "  </thead>\n",
              "  <tbody>\n",
              "    <tr>\n",
              "      <th>0</th>\n",
              "      <td>Volume-Based Exchange Transaction Pricing for ...</td>\n",
              "      <td>https://sec.gov/rules/2023/10/feetiers#34-98766</td>\n",
              "      <td>The Securities and Exchange Commission (“Commi...</td>\n",
              "      <td>https://sec.gov/files/rules/proposed/2023/34-9...</td>\n",
              "      <td>volume-based exchange transaction pricing for ...</td>\n",
              "    </tr>\n",
              "    <tr>\n",
              "      <th>1</th>\n",
              "      <td>Short Position and Short Activity Reporting by...</td>\n",
              "      <td>https://sec.gov/rules/2022/02/notice-text-prop...</td>\n",
              "      <td>The Securities and Exchange Commission (“Commi...</td>\n",
              "      <td>https://sec.gov/files/rules/proposed/2022/33-1...</td>\n",
              "      <td>short position and short activity reporting by...</td>\n",
              "    </tr>\n",
              "    <tr>\n",
              "      <th>2</th>\n",
              "      <td>Reporting of Securities Loans</td>\n",
              "      <td>https://sec.gov/rules/2021/11/reporting-securi...</td>\n",
              "      <td>The Securities and Exchange Commission (“SEC” ...</td>\n",
              "      <td>https://sec.gov/files/rules/proposed/2022/33-1...</td>\n",
              "      <td>reporting of securities loans</td>\n",
              "    </tr>\n",
              "    <tr>\n",
              "      <th>3</th>\n",
              "      <td>Modernization of Beneficial Ownership Reporting</td>\n",
              "      <td>https://sec.gov/rules/2022/02/modernization-be...</td>\n",
              "      <td>The Securities and Exchange Commission (“Commi...</td>\n",
              "      <td>https://sec.gov/files/rules/proposed/2023/33-1...</td>\n",
              "      <td>modernization of beneficial ownership reporting</td>\n",
              "    </tr>\n",
              "    <tr>\n",
              "      <th>4</th>\n",
              "      <td>Registration for Index-Linked Annuities; Amend...</td>\n",
              "      <td>https://sec.gov/rules/2023/09/rila#33-11250</td>\n",
              "      <td>The Commission is proposing to amend the offer...</td>\n",
              "      <td>https://sec.gov/files/rules/proposed/2023/33-1...</td>\n",
              "      <td>registration for index-linked annuities; amend...</td>\n",
              "    </tr>\n",
              "  </tbody>\n",
              "</table>\n",
              "</div>\n",
              "    <div class=\"colab-df-buttons\">\n",
              "\n",
              "  <div class=\"colab-df-container\">\n",
              "    <button class=\"colab-df-convert\" onclick=\"convertToInteractive('df-b6843ccc-69b5-4e60-960c-880ede6481ff')\"\n",
              "            title=\"Convert this dataframe to an interactive table.\"\n",
              "            style=\"display:none;\">\n",
              "\n",
              "  <svg xmlns=\"http://www.w3.org/2000/svg\" height=\"24px\" viewBox=\"0 -960 960 960\">\n",
              "    <path d=\"M120-120v-720h720v720H120Zm60-500h600v-160H180v160Zm220 220h160v-160H400v160Zm0 220h160v-160H400v160ZM180-400h160v-160H180v160Zm440 0h160v-160H620v160ZM180-180h160v-160H180v160Zm440 0h160v-160H620v160Z\"/>\n",
              "  </svg>\n",
              "    </button>\n",
              "\n",
              "  <style>\n",
              "    .colab-df-container {\n",
              "      display:flex;\n",
              "      gap: 12px;\n",
              "    }\n",
              "\n",
              "    .colab-df-convert {\n",
              "      background-color: #E8F0FE;\n",
              "      border: none;\n",
              "      border-radius: 50%;\n",
              "      cursor: pointer;\n",
              "      display: none;\n",
              "      fill: #1967D2;\n",
              "      height: 32px;\n",
              "      padding: 0 0 0 0;\n",
              "      width: 32px;\n",
              "    }\n",
              "\n",
              "    .colab-df-convert:hover {\n",
              "      background-color: #E2EBFA;\n",
              "      box-shadow: 0px 1px 2px rgba(60, 64, 67, 0.3), 0px 1px 3px 1px rgba(60, 64, 67, 0.15);\n",
              "      fill: #174EA6;\n",
              "    }\n",
              "\n",
              "    .colab-df-buttons div {\n",
              "      margin-bottom: 4px;\n",
              "    }\n",
              "\n",
              "    [theme=dark] .colab-df-convert {\n",
              "      background-color: #3B4455;\n",
              "      fill: #D2E3FC;\n",
              "    }\n",
              "\n",
              "    [theme=dark] .colab-df-convert:hover {\n",
              "      background-color: #434B5C;\n",
              "      box-shadow: 0px 1px 3px 1px rgba(0, 0, 0, 0.15);\n",
              "      filter: drop-shadow(0px 1px 2px rgba(0, 0, 0, 0.3));\n",
              "      fill: #FFFFFF;\n",
              "    }\n",
              "  </style>\n",
              "\n",
              "    <script>\n",
              "      const buttonEl =\n",
              "        document.querySelector('#df-b6843ccc-69b5-4e60-960c-880ede6481ff button.colab-df-convert');\n",
              "      buttonEl.style.display =\n",
              "        google.colab.kernel.accessAllowed ? 'block' : 'none';\n",
              "\n",
              "      async function convertToInteractive(key) {\n",
              "        const element = document.querySelector('#df-b6843ccc-69b5-4e60-960c-880ede6481ff');\n",
              "        const dataTable =\n",
              "          await google.colab.kernel.invokeFunction('convertToInteractive',\n",
              "                                                    [key], {});\n",
              "        if (!dataTable) return;\n",
              "\n",
              "        const docLinkHtml = 'Like what you see? Visit the ' +\n",
              "          '<a target=\"_blank\" href=https://colab.research.google.com/notebooks/data_table.ipynb>data table notebook</a>'\n",
              "          + ' to learn more about interactive tables.';\n",
              "        element.innerHTML = '';\n",
              "        dataTable['output_type'] = 'display_data';\n",
              "        await google.colab.output.renderOutput(dataTable, element);\n",
              "        const docLink = document.createElement('div');\n",
              "        docLink.innerHTML = docLinkHtml;\n",
              "        element.appendChild(docLink);\n",
              "      }\n",
              "    </script>\n",
              "  </div>\n",
              "\n",
              "\n",
              "<div id=\"df-d83b756d-5c19-4bb5-a652-2909e09177d2\">\n",
              "  <button class=\"colab-df-quickchart\" onclick=\"quickchart('df-d83b756d-5c19-4bb5-a652-2909e09177d2')\"\n",
              "            title=\"Suggest charts.\"\n",
              "            style=\"display:none;\">\n",
              "\n",
              "<svg xmlns=\"http://www.w3.org/2000/svg\" height=\"24px\"viewBox=\"0 0 24 24\"\n",
              "     width=\"24px\">\n",
              "    <g>\n",
              "        <path d=\"M19 3H5c-1.1 0-2 .9-2 2v14c0 1.1.9 2 2 2h14c1.1 0 2-.9 2-2V5c0-1.1-.9-2-2-2zM9 17H7v-7h2v7zm4 0h-2V7h2v10zm4 0h-2v-4h2v4z\"/>\n",
              "    </g>\n",
              "</svg>\n",
              "  </button>\n",
              "\n",
              "<style>\n",
              "  .colab-df-quickchart {\n",
              "      --bg-color: #E8F0FE;\n",
              "      --fill-color: #1967D2;\n",
              "      --hover-bg-color: #E2EBFA;\n",
              "      --hover-fill-color: #174EA6;\n",
              "      --disabled-fill-color: #AAA;\n",
              "      --disabled-bg-color: #DDD;\n",
              "  }\n",
              "\n",
              "  [theme=dark] .colab-df-quickchart {\n",
              "      --bg-color: #3B4455;\n",
              "      --fill-color: #D2E3FC;\n",
              "      --hover-bg-color: #434B5C;\n",
              "      --hover-fill-color: #FFFFFF;\n",
              "      --disabled-bg-color: #3B4455;\n",
              "      --disabled-fill-color: #666;\n",
              "  }\n",
              "\n",
              "  .colab-df-quickchart {\n",
              "    background-color: var(--bg-color);\n",
              "    border: none;\n",
              "    border-radius: 50%;\n",
              "    cursor: pointer;\n",
              "    display: none;\n",
              "    fill: var(--fill-color);\n",
              "    height: 32px;\n",
              "    padding: 0;\n",
              "    width: 32px;\n",
              "  }\n",
              "\n",
              "  .colab-df-quickchart:hover {\n",
              "    background-color: var(--hover-bg-color);\n",
              "    box-shadow: 0 1px 2px rgba(60, 64, 67, 0.3), 0 1px 3px 1px rgba(60, 64, 67, 0.15);\n",
              "    fill: var(--button-hover-fill-color);\n",
              "  }\n",
              "\n",
              "  .colab-df-quickchart-complete:disabled,\n",
              "  .colab-df-quickchart-complete:disabled:hover {\n",
              "    background-color: var(--disabled-bg-color);\n",
              "    fill: var(--disabled-fill-color);\n",
              "    box-shadow: none;\n",
              "  }\n",
              "\n",
              "  .colab-df-spinner {\n",
              "    border: 2px solid var(--fill-color);\n",
              "    border-color: transparent;\n",
              "    border-bottom-color: var(--fill-color);\n",
              "    animation:\n",
              "      spin 1s steps(1) infinite;\n",
              "  }\n",
              "\n",
              "  @keyframes spin {\n",
              "    0% {\n",
              "      border-color: transparent;\n",
              "      border-bottom-color: var(--fill-color);\n",
              "      border-left-color: var(--fill-color);\n",
              "    }\n",
              "    20% {\n",
              "      border-color: transparent;\n",
              "      border-left-color: var(--fill-color);\n",
              "      border-top-color: var(--fill-color);\n",
              "    }\n",
              "    30% {\n",
              "      border-color: transparent;\n",
              "      border-left-color: var(--fill-color);\n",
              "      border-top-color: var(--fill-color);\n",
              "      border-right-color: var(--fill-color);\n",
              "    }\n",
              "    40% {\n",
              "      border-color: transparent;\n",
              "      border-right-color: var(--fill-color);\n",
              "      border-top-color: var(--fill-color);\n",
              "    }\n",
              "    60% {\n",
              "      border-color: transparent;\n",
              "      border-right-color: var(--fill-color);\n",
              "    }\n",
              "    80% {\n",
              "      border-color: transparent;\n",
              "      border-right-color: var(--fill-color);\n",
              "      border-bottom-color: var(--fill-color);\n",
              "    }\n",
              "    90% {\n",
              "      border-color: transparent;\n",
              "      border-bottom-color: var(--fill-color);\n",
              "    }\n",
              "  }\n",
              "</style>\n",
              "\n",
              "  <script>\n",
              "    async function quickchart(key) {\n",
              "      const quickchartButtonEl =\n",
              "        document.querySelector('#' + key + ' button');\n",
              "      quickchartButtonEl.disabled = true;  // To prevent multiple clicks.\n",
              "      quickchartButtonEl.classList.add('colab-df-spinner');\n",
              "      try {\n",
              "        const charts = await google.colab.kernel.invokeFunction(\n",
              "            'suggestCharts', [key], {});\n",
              "      } catch (error) {\n",
              "        console.error('Error during call to suggestCharts:', error);\n",
              "      }\n",
              "      quickchartButtonEl.classList.remove('colab-df-spinner');\n",
              "      quickchartButtonEl.classList.add('colab-df-quickchart-complete');\n",
              "    }\n",
              "    (() => {\n",
              "      let quickchartButtonEl =\n",
              "        document.querySelector('#df-d83b756d-5c19-4bb5-a652-2909e09177d2 button');\n",
              "      quickchartButtonEl.style.display =\n",
              "        google.colab.kernel.accessAllowed ? 'block' : 'none';\n",
              "    })();\n",
              "  </script>\n",
              "</div>\n",
              "    </div>\n",
              "  </div>\n"
            ]
          },
          "metadata": {},
          "execution_count": 66
        }
      ]
    },
    {
      "cell_type": "code",
      "source": [
        "df['text_processed'] = \\\n",
        "df['Title'].map(lambda x: re.sub('[,\\.!?]', '', x))\n",
        "df['text_processed'] = \\\n",
        "df['Title'].map(lambda x: x.lower())"
      ],
      "metadata": {
        "id": "wdQvKZLfyKbK"
      },
      "execution_count": 67,
      "outputs": []
    },
    {
      "cell_type": "code",
      "source": [
        "stemmer = SnowballStemmer(\"english\")\n",
        "def lemmatize_stemming(text):\n",
        "    return stemmer.stem(WordNetLemmatizer().lemmatize(text, pos='v'))\n",
        "def preprocess(text):\n",
        "    result = []\n",
        "    for token in gensim.utils.simple_preprocess(text):\n",
        "        if token not in gensim.parsing.preprocessing.STOPWORDS and len(token) > 3:\n",
        "            result.append(lemmatize_stemming(token))\n",
        "    return result"
      ],
      "metadata": {
        "id": "1rZQqp_eylGB"
      },
      "execution_count": 68,
      "outputs": []
    },
    {
      "cell_type": "code",
      "source": [
        "import nltk\n",
        "nltk.download('wordnet')\n",
        "processed_docs = df['text_processed'].map(preprocess)\n",
        "processed_docs[0:10]"
      ],
      "metadata": {
        "colab": {
          "base_uri": "https://localhost:8080/"
        },
        "id": "FGLfgm7xz5vZ",
        "outputId": "7dfaba0d-e2e1-4d3b-a942-87afc696117f"
      },
      "execution_count": 69,
      "outputs": [
        {
          "output_type": "stream",
          "name": "stderr",
          "text": [
            "[nltk_data] Downloading package wordnet to /root/nltk_data...\n",
            "[nltk_data]   Package wordnet is already up-to-date!\n"
          ]
        },
        {
          "output_type": "execute_result",
          "data": {
            "text/plain": [
              "0       [volum, base, exchang, transact, price, stock]\n",
              "1    [short, posit, short, activ, report, institut,...\n",
              "2                                [report, secur, loan]\n",
              "3                [modern, benefici, ownership, report]\n",
              "4    [registr, index, link, annuiti, amend, form, i...\n",
              "5                            [commiss, privaci, regul]\n",
              "6                              [invest, compani, name]\n",
              "7                 [adopt, updat, edgar, filer, manual]\n",
              "8               [edgar, filer, access, account, manag]\n",
              "9                 [safeguard, advisori, client, asset]\n",
              "Name: text_processed, dtype: object"
            ]
          },
          "metadata": {},
          "execution_count": 69
        }
      ]
    },
    {
      "cell_type": "code",
      "source": [
        "dictionary = gensim.corpora.Dictionary(processed_docs)\n",
        "count = 0\n",
        "for k, v in dictionary.iteritems():\n",
        "    print(k, v)\n",
        "    count += 1\n",
        "    if count > 10:\n",
        "        break"
      ],
      "metadata": {
        "colab": {
          "base_uri": "https://localhost:8080/"
        },
        "id": "yTaTl3o70D34",
        "outputId": "72b18a82-e1cd-4808-c77b-dab8dd5854f2"
      },
      "execution_count": 70,
      "outputs": [
        {
          "output_type": "stream",
          "name": "stdout",
          "text": [
            "0 base\n",
            "1 exchang\n",
            "2 price\n",
            "3 stock\n",
            "4 transact\n",
            "5 volum\n",
            "6 activ\n",
            "7 institut\n",
            "8 invest\n",
            "9 manag\n",
            "10 posit\n"
          ]
        }
      ]
    },
    {
      "cell_type": "code",
      "source": [
        "dictionary.filter_extremes(no_below=15, no_above=0.5, keep_n=100000)"
      ],
      "metadata": {
        "id": "eEo-D5AW0RR9"
      },
      "execution_count": 71,
      "outputs": []
    },
    {
      "cell_type": "code",
      "source": [
        "bow_corpus = [dictionary.doc2bow(doc) for doc in processed_docs]\n",
        "bow_corpus[50]"
      ],
      "metadata": {
        "colab": {
          "base_uri": "https://localhost:8080/"
        },
        "id": "C_nsPD9e0T5d",
        "outputId": "d64f719b-eced-4e63-f9a4-5ff822062f01"
      },
      "execution_count": 72,
      "outputs": [
        {
          "output_type": "execute_result",
          "data": {
            "text/plain": [
              "[(6, 1), (22, 1)]"
            ]
          },
          "metadata": {},
          "execution_count": 72
        }
      ]
    },
    {
      "cell_type": "code",
      "source": [
        "bow_doc_4310 = bow_corpus[50]\n",
        "for i in range(len(bow_doc_4310)):\n",
        "    print(\"Word {} (\\\"{}\\\") appears {} time.\".format(bow_doc_4310[i][0],\n",
        "                                               dictionary[bow_doc_4310[i][0]],\n",
        "bow_doc_4310[i][1]))"
      ],
      "metadata": {
        "colab": {
          "base_uri": "https://localhost:8080/"
        },
        "id": "vfVxhG-20YW2",
        "outputId": "64b28648-95e8-4dc4-8cfe-32fd961841e0"
      },
      "execution_count": 74,
      "outputs": [
        {
          "output_type": "stream",
          "name": "stdout",
          "text": [
            "Word 6 (\"modern\") appears 1 time.\n",
            "Word 22 (\"disclosur\") appears 1 time.\n"
          ]
        }
      ]
    },
    {
      "cell_type": "code",
      "source": [
        "from gensim import corpora, models\n",
        "tfidf = models.TfidfModel(bow_corpus)\n",
        "corpus_tfidf = tfidf[bow_corpus]\n",
        "from pprint import pprint\n",
        "for doc in corpus_tfidf:\n",
        "    pprint(doc)\n",
        "    break"
      ],
      "metadata": {
        "colab": {
          "base_uri": "https://localhost:8080/"
        },
        "id": "enRY43kD0aNp",
        "outputId": "0d5bcdd1-e64e-4a46-a441-470acf6ff7f3"
      },
      "execution_count": 75,
      "outputs": [
        {
          "output_type": "stream",
          "name": "stdout",
          "text": [
            "[(0, 0.685362281070841), (1, 0.7282022683879621)]\n"
          ]
        }
      ]
    },
    {
      "cell_type": "code",
      "source": [
        "lda_model = gensim.models.LdaMulticore(bow_corpus, num_topics=10, id2word=dictionary, passes=2, workers=2)"
      ],
      "metadata": {
        "colab": {
          "base_uri": "https://localhost:8080/"
        },
        "id": "vuKjqeS90fig",
        "outputId": "d96b714f-c064-4411-d498-cfeaf00c9b36"
      },
      "execution_count": 76,
      "outputs": [
        {
          "output_type": "stream",
          "name": "stderr",
          "text": [
            "WARNING:gensim.models.ldamulticore:too few updates, training might not converge; consider increasing the number of passes or iterations to improve accuracy\n"
          ]
        }
      ]
    },
    {
      "cell_type": "code",
      "source": [
        "\n",
        "\n",
        "topics_string = []\n",
        "for idx, topic in lda_model.print_topics(-1):\n",
        "    print('Topic: {} \\nWords: {}'.format(idx, topic))\n",
        "    topics_string.append(topic)\n"
      ],
      "metadata": {
        "colab": {
          "base_uri": "https://localhost:8080/"
        },
        "id": "zJusnZsa0hKq",
        "outputId": "976368c5-f405-43c2-a6df-53030c27549c"
      },
      "execution_count": 125,
      "outputs": [
        {
          "output_type": "stream",
          "name": "stdout",
          "text": [
            "Topic: 0 \n",
            "Words: 0.228*\"rule\" + 0.167*\"invest\" + 0.160*\"manag\" + 0.117*\"report\" + 0.073*\"compani\" + 0.061*\"exempt\" + 0.044*\"secur\" + 0.024*\"advis\" + 0.024*\"base\" + 0.024*\"swap\"\n",
            "Topic: 1 \n",
            "Words: 0.441*\"secur\" + 0.121*\"exempt\" + 0.116*\"certain\" + 0.066*\"disclosur\" + 0.035*\"exchang\" + 0.024*\"modern\" + 0.020*\"trade\" + 0.016*\"commiss\" + 0.015*\"base\" + 0.015*\"swap\"\n",
            "Topic: 2 \n",
            "Words: 0.185*\"filer\" + 0.175*\"edgar\" + 0.169*\"updat\" + 0.154*\"manual\" + 0.154*\"adopt\" + 0.025*\"form\" + 0.021*\"fund\" + 0.021*\"regul\" + 0.018*\"requir\" + 0.015*\"amend\"\n",
            "Topic: 3 \n",
            "Words: 0.248*\"disclosur\" + 0.128*\"secur\" + 0.121*\"swap\" + 0.121*\"base\" + 0.078*\"exempt\" + 0.069*\"updat\" + 0.044*\"dealer\" + 0.039*\"compani\" + 0.030*\"modern\" + 0.025*\"rule\"\n",
            "Topic: 4 \n",
            "Words: 0.203*\"amend\" + 0.161*\"regul\" + 0.135*\"form\" + 0.093*\"inform\" + 0.089*\"rule\" + 0.070*\"commiss\" + 0.042*\"secur\" + 0.029*\"disclosur\" + 0.022*\"manag\" + 0.021*\"advis\"\n",
            "Topic: 5 \n",
            "Words: 0.199*\"secur\" + 0.144*\"base\" + 0.135*\"swap\" + 0.108*\"dealer\" + 0.076*\"requir\" + 0.059*\"exchang\" + 0.057*\"rule\" + 0.041*\"invest\" + 0.035*\"report\" + 0.033*\"compani\"\n",
            "Topic: 6 \n",
            "Words: 0.119*\"filer\" + 0.119*\"edgar\" + 0.092*\"secur\" + 0.092*\"updat\" + 0.092*\"manual\" + 0.092*\"adopt\" + 0.056*\"manag\" + 0.042*\"modern\" + 0.029*\"regul\" + 0.029*\"inform\"\n",
            "Topic: 7 \n",
            "Words: 0.169*\"disclosur\" + 0.139*\"modern\" + 0.132*\"commiss\" + 0.087*\"exchang\" + 0.079*\"requir\" + 0.067*\"regul\" + 0.062*\"manag\" + 0.062*\"updat\" + 0.061*\"rule\" + 0.028*\"amend\"\n",
            "Topic: 8 \n",
            "Words: 0.292*\"invest\" + 0.190*\"compani\" + 0.182*\"advis\" + 0.052*\"fund\" + 0.046*\"trade\" + 0.040*\"report\" + 0.038*\"disclosur\" + 0.034*\"exempt\" + 0.031*\"modern\" + 0.023*\"exchang\"\n",
            "Topic: 9 \n",
            "Words: 0.273*\"fund\" + 0.140*\"report\" + 0.066*\"advis\" + 0.065*\"trade\" + 0.061*\"certain\" + 0.056*\"secur\" + 0.041*\"dealer\" + 0.039*\"modern\" + 0.038*\"invest\" + 0.036*\"compani\"\n"
          ]
        }
      ]
    },
    {
      "cell_type": "code",
      "source": [
        "\n",
        "def disp_graph(freq_array, word_array):\n",
        "  plt.figure(figsize=(10, 5))\n",
        "  plt.bar(freq_array, word_array, color='skyblue')\n",
        "  plt.xlabel('Word')\n",
        "  plt.ylabel('Word Frequency')\n",
        "  plt.title('Relative Word Frequency in the Chosen Topic')\n",
        "  plt.xticks(rotation=45)  # Rotate x-axis labels for better readability\n",
        "  plt.show()\n",
        "\n",
        "def disp_heatmap(freq_array, word_array):\n",
        "    plt.figure(figsize=(10, 5))\n",
        "\n",
        "    # Create a 2D grid from the provided data\n",
        "    freq_array = np.array(freq_array, dtype=float)\n",
        "    word_array = np.array(word_array, dtype=float)\n",
        "\n",
        "    # Plot the heatmap\n",
        "    plt.imshow([freq_array], cmap='YlGnBu', aspect='auto', extent=[0, len(word_array), 0, 1])\n",
        "\n",
        "    # Customize the axes and title\n",
        "    plt.xlabel('Word')\n",
        "    plt.ylabel('Word Frequency')\n",
        "    plt.title('Relative Word Frequency in the Chosen Topic')\n",
        "    plt.xticks(np.arange(len(word_array)), word_array, rotation=45)\n",
        "\n",
        "    # Show the color bar\n",
        "    plt.colorbar()\n",
        "\n",
        "    plt.show()\n",
        "\n",
        "def two_arr(topic):\n",
        "  topic = topic.split(\" + \")\n",
        "  topic = \"\".join(topic)\n",
        "  topic= topic.split(\"*\")\n",
        "  topic = \"\".join(topic)\n",
        "  topic = topic.split('\"')\n",
        "  count = 0\n",
        "  freq_array = []\n",
        "  word_array = []\n",
        "  for word in topic:\n",
        "    if (count%2==0):\n",
        "      word_array.append(topic[count])\n",
        "    else:\n",
        "      freq_array.append(topic[count])\n",
        "    count += 1\n",
        "\n",
        "  min_length = 0\n",
        "  if (len(freq_array) > len(word_array)):\n",
        "    min_length = len(word_array)\n",
        "  else:\n",
        "    min_length = len(freq_array)\n",
        "\n",
        "  disp_graph(freq_array[:min_length],word_array[:min_length])\n",
        "  return (freq_array[:min_length], word_array[:min_length])\n",
        "\n",
        "print(two_arr(topics_string[0]))\n"
      ],
      "metadata": {
        "colab": {
          "base_uri": "https://localhost:8080/",
          "height": 563
        },
        "id": "z-kJoRiW-363",
        "outputId": "57e6c5e0-3195-476e-e7ed-cfc754e2012d"
      },
      "execution_count": 143,
      "outputs": [
        {
          "output_type": "display_data",
          "data": {
            "text/plain": [
              "<Figure size 1000x500 with 1 Axes>"
            ],
            "image/png": "[encoded data removed]"
          },
          "metadata": {}
        },
        {
          "output_type": "stream",
          "name": "stdout",
          "text": [
            "(['rule', 'invest', 'manag', 'report', 'compani', 'exempt', 'secur', 'advis', 'base', 'swap'], ['0.228', '0.167', '0.160', '0.117', '0.073', '0.061', '0.044', '0.024', '0.024', '0.024'])\n"
          ]
        }
      ]
    },
    {
      "cell_type": "markdown",
      "source": [
        "<h1> Topic Selection <br>\n",
        "\n",
        "<p> The bar graph represents which topic out of the 10 topics is most predominant in a particular document."
      ],
      "metadata": {
        "id": "N2jOJm3X8bmU"
      }
    },
    {
      "cell_type": "code",
      "source": [
        "document_bow = dictionary.doc2bow(processed_docs[1])  # Replace with the document of interest\n",
        "topic_scores = lda_model.get_document_topics(document_bow)\n",
        "print(list(topic_scores))\n",
        "\n",
        "import matplotlib.pyplot as plt\n",
        "\n",
        "# Topic scores for the document (replace with actual scores)\n",
        "topic_scores_ = []\n",
        "for query in list(topic_scores):\n",
        "  topic_scores_.append(query[1])\n",
        "\n",
        "# Topic labels\n",
        "topic_labels = [\"Topic 0\", \"Topic 1\", \"Topic 2\", \"Topic 3\", \"Topic 4\", \"Topic 5\", \"Topic 6\", \"Topic 7\", \"Topic 8\", \"Topic 9\"]\n",
        "\n",
        "# Create a bar graph\n",
        "plt.figure(figsize=(10, 5))\n",
        "plt.barh(topic_labels, topic_scores_, color='skyblue')\n",
        "plt.xlabel('Topic Score')\n",
        "plt.title('Topic Classification for a particular document')\n",
        "plt.gca().invert_yaxis()  # Invert the y-axis to display the highest score at the top\n",
        "plt.show()\n"
      ],
      "metadata": {
        "colab": {
          "base_uri": "https://localhost:8080/",
          "height": 525
        },
        "id": "QR20Lomp7gOc",
        "outputId": "b7731c9d-8053-439d-8eab-12b16bea6a0e"
      },
      "execution_count": 89,
      "outputs": [
        {
          "output_type": "stream",
          "name": "stdout",
          "text": [
            "[(0, 0.77498364), (1, 0.025000192), (2, 0.025000175), (3, 0.025000025), (4, 0.025000945), (5, 0.025001822), (6, 0.025000934), (7, 0.025001673), (8, 0.025006264), (9, 0.025004327)]\n"
          ]
        },
        {
          "output_type": "display_data",
          "data": {
            "text/plain": [
              "<Figure size 1000x500 with 1 Axes>"
            ],
            "image/png": "[encoded data removed]"
          },
          "metadata": {}
        }
      ]
    },
    {
      "cell_type": "code",
      "source": [
        "#"
      ],
      "metadata": {
        "id": "RwqC8iid8Y8p"
      },
      "execution_count": null,
      "outputs": []
    }
  ]
}